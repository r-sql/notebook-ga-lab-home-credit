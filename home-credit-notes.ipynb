{
 "cells": [
  {
   "cell_type": "code",
   "execution_count": 1,
   "outputs": [],
   "source": [
    "import pandas as pd;\n",
    "import numpy as np;\n",
    "import matplotlib as plt;"
   ],
   "metadata": {
    "collapsed": false
   }
  },
  {
   "cell_type": "code",
   "execution_count": 19,
   "outputs": [],
   "source": [
    "# The Task\n",
    "#\n",
    "# No matter what data set you choose, you will submit a Jupyter Notebook containing:\n",
    "# 1. Imported data, including at least two DataFrames and at least one combination of DataFrames via methods such as joining.\n",
    "# 2. Functions for cleaning the data set, with explanations for how null values are being handled in each field.\n",
    "# 3. At least two visualizations accompanied by textual descriptions of the business insights they communicate.\n"
   ],
   "metadata": {
    "collapsed": false
   }
  },
  {
   "cell_type": "markdown",
   "source": [
    "1. Imported data, including at least two DataFrames and at least one combination of DataFrames via methods such as joining."
   ],
   "metadata": {
    "collapsed": false
   }
  },
  {
   "cell_type": "code",
   "execution_count": null,
   "outputs": [],
   "source": [
    "# dateframe 1\n",
    "app_test = pd.read_csv('./data/application_test.csv')\n",
    "display(app_test.shape)\n",
    "\n",
    "# dateframe 2\n",
    "cc_balance = pd.read_csv('./data/credit_card_balance.csv')\n",
    "display(cc_balance.shape)"
   ],
   "metadata": {
    "collapsed": false
   }
  },
  {
   "cell_type": "code",
   "execution_count": null,
   "outputs": [],
   "source": [
    "# one combination of DataFrames via methods such as joining.\n",
    "# this is telling me what cc_balance has many recorders of SK_ID_CURR\n",
    "merged_df_inner = app_test.merge(cc_balance, on='SK_ID_CURR', how='inner')\n",
    "display(merged_df_inner.shape)\n",
    "\n",
    "merged_df_left = app_test.merge(cc_balance, on='SK_ID_CURR', how='left')\n",
    "display(merged_df_left.shape)"
   ],
   "metadata": {
    "collapsed": false
   }
  },
  {
   "cell_type": "markdown",
   "source": [
    "2. Functions for cleaning the data set, with explanations for how null values are being handled in each field."
   ],
   "metadata": {
    "collapsed": false
   }
  },
  {
   "cell_type": "code",
   "execution_count": 15,
   "outputs": [
    {
     "name": "stdout",
     "output_type": "stream",
     "text": [
      "app_test\n"
     ]
    },
    {
     "data": {
      "text/plain": "(48744, 121)"
     },
     "metadata": {},
     "output_type": "display_data"
    },
    {
     "data": {
      "text/plain": "SK_ID_CURR                      int64\nNAME_CONTRACT_TYPE             object\nCODE_GENDER                    object\nFLAG_OWN_CAR                   object\nFLAG_OWN_REALTY                object\n                               ...   \nAMT_REQ_CREDIT_BUREAU_DAY     float64\nAMT_REQ_CREDIT_BUREAU_WEEK    float64\nAMT_REQ_CREDIT_BUREAU_MON     float64\nAMT_REQ_CREDIT_BUREAU_QRT     float64\nAMT_REQ_CREDIT_BUREAU_YEAR    float64\nLength: 121, dtype: object"
     },
     "metadata": {},
     "output_type": "display_data"
    },
    {
     "name": "stdout",
     "output_type": "stream",
     "text": [
      "cc_balance\n"
     ]
    },
    {
     "data": {
      "text/plain": "(3840312, 23)"
     },
     "metadata": {},
     "output_type": "display_data"
    },
    {
     "data": {
      "text/plain": "SK_ID_PREV                      int64\nSK_ID_CURR                      int64\nMONTHS_BALANCE                  int64\nAMT_BALANCE                   float64\nAMT_CREDIT_LIMIT_ACTUAL         int64\nAMT_DRAWINGS_ATM_CURRENT      float64\nAMT_DRAWINGS_CURRENT          float64\nAMT_DRAWINGS_OTHER_CURRENT    float64\nAMT_DRAWINGS_POS_CURRENT      float64\nAMT_INST_MIN_REGULARITY       float64\nAMT_PAYMENT_CURRENT           float64\nAMT_PAYMENT_TOTAL_CURRENT     float64\nAMT_RECEIVABLE_PRINCIPAL      float64\nAMT_RECIVABLE                 float64\nAMT_TOTAL_RECEIVABLE          float64\nCNT_DRAWINGS_ATM_CURRENT      float64\nCNT_DRAWINGS_CURRENT            int64\nCNT_DRAWINGS_OTHER_CURRENT    float64\nCNT_DRAWINGS_POS_CURRENT      float64\nCNT_INSTALMENT_MATURE_CUM     float64\nNAME_CONTRACT_STATUS           object\nSK_DPD                          int64\nSK_DPD_DEF                      int64\ndtype: object"
     },
     "metadata": {},
     "output_type": "display_data"
    }
   ],
   "source": [
    "print(\"app_test\")\n",
    "display(app_test.shape)\n",
    "display(app_test.dtypes)\n",
    "print(\"cc_balance\")\n",
    "display(cc_balance.shape)\n",
    "display(cc_balance.dtypes)"
   ],
   "metadata": {
    "collapsed": false
   }
  },
  {
   "cell_type": "markdown",
   "source": [],
   "metadata": {
    "collapsed": false
   }
  },
  {
   "cell_type": "code",
   "execution_count": 22,
   "outputs": [
    {
     "data": {
      "text/plain": "       SK_ID_CURR NAME_CONTRACT_TYPE CODE_GENDER FLAG_OWN_CAR FLAG_OWN_REALTY  \\\n1867       113209         Cash loans           M            Y               N   \n43299      415085         Cash loans           F            N               Y   \n15327      210523         Cash loans           M            Y               N   \n9855       171551         Cash loans           M            N               Y   \n12271      189207         Cash loans           F            N               N   \n24196      276344         Cash loans           M            Y               Y   \n35663      360960         Cash loans           M            N               Y   \n45734      434283         Cash loans           F            N               Y   \n37846      377226         Cash loans           F            N               Y   \n20586      249333         Cash loans           M            N               N   \n\n       CNT_CHILDREN  AMT_INCOME_TOTAL  AMT_CREDIT  AMT_ANNUITY  \\\n1867              0          135000.0    296280.0      15124.5   \n43299             0          135000.0    350860.5      14994.0   \n15327             0          276300.0    450000.0      23107.5   \n9855              0          225000.0    900000.0      46084.5   \n12271             0          157500.0    675000.0      53329.5   \n24196             0          157500.0    454500.0      32323.5   \n35663             1          135000.0    182448.0      19287.0   \n45734             0          225000.0    568197.0      24201.0   \n37846             1           90000.0    481176.0      23278.5   \n20586             0          180000.0   1350000.0      57199.5   \n\n       AMT_GOODS_PRICE  ... FLAG_DOCUMENT_18 FLAG_DOCUMENT_19  \\\n1867          225000.0  ...                0                0   \n43299         283500.0  ...                0                0   \n15327         450000.0  ...                0                0   \n9855          900000.0  ...                0                0   \n12271         675000.0  ...                0                0   \n24196         454500.0  ...                0                0   \n35663         157500.0  ...                0                0   \n45734         490500.0  ...                0                0   \n37846         360000.0  ...                0                0   \n20586        1350000.0  ...                0                0   \n\n      FLAG_DOCUMENT_20 FLAG_DOCUMENT_21 AMT_REQ_CREDIT_BUREAU_HOUR  \\\n1867                 0                0                        0.0   \n43299                0                0                        0.0   \n15327                0                0                        0.0   \n9855                 0                0                        0.0   \n12271                0                0                        0.0   \n24196                0                0                        NaN   \n35663                0                0                        0.0   \n45734                0                0                        0.0   \n37846                0                0                        0.0   \n20586                0                0                        0.0   \n\n       AMT_REQ_CREDIT_BUREAU_DAY  AMT_REQ_CREDIT_BUREAU_WEEK  \\\n1867                         0.0                         0.0   \n43299                        0.0                         0.0   \n15327                        0.0                         0.0   \n9855                         0.0                         0.0   \n12271                        0.0                         0.0   \n24196                        NaN                         NaN   \n35663                        0.0                         0.0   \n45734                        0.0                         0.0   \n37846                        0.0                         0.0   \n20586                        0.0                         0.0   \n\n       AMT_REQ_CREDIT_BUREAU_MON  AMT_REQ_CREDIT_BUREAU_QRT  \\\n1867                         0.0                        0.0   \n43299                        0.0                        0.0   \n15327                        0.0                        1.0   \n9855                         0.0                        1.0   \n12271                        0.0                        0.0   \n24196                        NaN                        NaN   \n35663                        0.0                        0.0   \n45734                        0.0                        1.0   \n37846                        0.0                        1.0   \n20586                        0.0                        0.0   \n\n       AMT_REQ_CREDIT_BUREAU_YEAR  \n1867                          0.0  \n43299                         7.0  \n15327                         2.0  \n9855                          3.0  \n12271                         0.0  \n24196                         NaN  \n35663                         0.0  \n45734                         1.0  \n37846                         1.0  \n20586                         0.0  \n\n[10 rows x 121 columns]",
      "text/html": "<div>\n<style scoped>\n    .dataframe tbody tr th:only-of-type {\n        vertical-align: middle;\n    }\n\n    .dataframe tbody tr th {\n        vertical-align: top;\n    }\n\n    .dataframe thead th {\n        text-align: right;\n    }\n</style>\n<table border=\"1\" class=\"dataframe\">\n  <thead>\n    <tr style=\"text-align: right;\">\n      <th></th>\n      <th>SK_ID_CURR</th>\n      <th>NAME_CONTRACT_TYPE</th>\n      <th>CODE_GENDER</th>\n      <th>FLAG_OWN_CAR</th>\n      <th>FLAG_OWN_REALTY</th>\n      <th>CNT_CHILDREN</th>\n      <th>AMT_INCOME_TOTAL</th>\n      <th>AMT_CREDIT</th>\n      <th>AMT_ANNUITY</th>\n      <th>AMT_GOODS_PRICE</th>\n      <th>...</th>\n      <th>FLAG_DOCUMENT_18</th>\n      <th>FLAG_DOCUMENT_19</th>\n      <th>FLAG_DOCUMENT_20</th>\n      <th>FLAG_DOCUMENT_21</th>\n      <th>AMT_REQ_CREDIT_BUREAU_HOUR</th>\n      <th>AMT_REQ_CREDIT_BUREAU_DAY</th>\n      <th>AMT_REQ_CREDIT_BUREAU_WEEK</th>\n      <th>AMT_REQ_CREDIT_BUREAU_MON</th>\n      <th>AMT_REQ_CREDIT_BUREAU_QRT</th>\n      <th>AMT_REQ_CREDIT_BUREAU_YEAR</th>\n    </tr>\n  </thead>\n  <tbody>\n    <tr>\n      <th>1867</th>\n      <td>113209</td>\n      <td>Cash loans</td>\n      <td>M</td>\n      <td>Y</td>\n      <td>N</td>\n      <td>0</td>\n      <td>135000.0</td>\n      <td>296280.0</td>\n      <td>15124.5</td>\n      <td>225000.0</td>\n      <td>...</td>\n      <td>0</td>\n      <td>0</td>\n      <td>0</td>\n      <td>0</td>\n      <td>0.0</td>\n      <td>0.0</td>\n      <td>0.0</td>\n      <td>0.0</td>\n      <td>0.0</td>\n      <td>0.0</td>\n    </tr>\n    <tr>\n      <th>43299</th>\n      <td>415085</td>\n      <td>Cash loans</td>\n      <td>F</td>\n      <td>N</td>\n      <td>Y</td>\n      <td>0</td>\n      <td>135000.0</td>\n      <td>350860.5</td>\n      <td>14994.0</td>\n      <td>283500.0</td>\n      <td>...</td>\n      <td>0</td>\n      <td>0</td>\n      <td>0</td>\n      <td>0</td>\n      <td>0.0</td>\n      <td>0.0</td>\n      <td>0.0</td>\n      <td>0.0</td>\n      <td>0.0</td>\n      <td>7.0</td>\n    </tr>\n    <tr>\n      <th>15327</th>\n      <td>210523</td>\n      <td>Cash loans</td>\n      <td>M</td>\n      <td>Y</td>\n      <td>N</td>\n      <td>0</td>\n      <td>276300.0</td>\n      <td>450000.0</td>\n      <td>23107.5</td>\n      <td>450000.0</td>\n      <td>...</td>\n      <td>0</td>\n      <td>0</td>\n      <td>0</td>\n      <td>0</td>\n      <td>0.0</td>\n      <td>0.0</td>\n      <td>0.0</td>\n      <td>0.0</td>\n      <td>1.0</td>\n      <td>2.0</td>\n    </tr>\n    <tr>\n      <th>9855</th>\n      <td>171551</td>\n      <td>Cash loans</td>\n      <td>M</td>\n      <td>N</td>\n      <td>Y</td>\n      <td>0</td>\n      <td>225000.0</td>\n      <td>900000.0</td>\n      <td>46084.5</td>\n      <td>900000.0</td>\n      <td>...</td>\n      <td>0</td>\n      <td>0</td>\n      <td>0</td>\n      <td>0</td>\n      <td>0.0</td>\n      <td>0.0</td>\n      <td>0.0</td>\n      <td>0.0</td>\n      <td>1.0</td>\n      <td>3.0</td>\n    </tr>\n    <tr>\n      <th>12271</th>\n      <td>189207</td>\n      <td>Cash loans</td>\n      <td>F</td>\n      <td>N</td>\n      <td>N</td>\n      <td>0</td>\n      <td>157500.0</td>\n      <td>675000.0</td>\n      <td>53329.5</td>\n      <td>675000.0</td>\n      <td>...</td>\n      <td>0</td>\n      <td>0</td>\n      <td>0</td>\n      <td>0</td>\n      <td>0.0</td>\n      <td>0.0</td>\n      <td>0.0</td>\n      <td>0.0</td>\n      <td>0.0</td>\n      <td>0.0</td>\n    </tr>\n    <tr>\n      <th>24196</th>\n      <td>276344</td>\n      <td>Cash loans</td>\n      <td>M</td>\n      <td>Y</td>\n      <td>Y</td>\n      <td>0</td>\n      <td>157500.0</td>\n      <td>454500.0</td>\n      <td>32323.5</td>\n      <td>454500.0</td>\n      <td>...</td>\n      <td>0</td>\n      <td>0</td>\n      <td>0</td>\n      <td>0</td>\n      <td>NaN</td>\n      <td>NaN</td>\n      <td>NaN</td>\n      <td>NaN</td>\n      <td>NaN</td>\n      <td>NaN</td>\n    </tr>\n    <tr>\n      <th>35663</th>\n      <td>360960</td>\n      <td>Cash loans</td>\n      <td>M</td>\n      <td>N</td>\n      <td>Y</td>\n      <td>1</td>\n      <td>135000.0</td>\n      <td>182448.0</td>\n      <td>19287.0</td>\n      <td>157500.0</td>\n      <td>...</td>\n      <td>0</td>\n      <td>0</td>\n      <td>0</td>\n      <td>0</td>\n      <td>0.0</td>\n      <td>0.0</td>\n      <td>0.0</td>\n      <td>0.0</td>\n      <td>0.0</td>\n      <td>0.0</td>\n    </tr>\n    <tr>\n      <th>45734</th>\n      <td>434283</td>\n      <td>Cash loans</td>\n      <td>F</td>\n      <td>N</td>\n      <td>Y</td>\n      <td>0</td>\n      <td>225000.0</td>\n      <td>568197.0</td>\n      <td>24201.0</td>\n      <td>490500.0</td>\n      <td>...</td>\n      <td>0</td>\n      <td>0</td>\n      <td>0</td>\n      <td>0</td>\n      <td>0.0</td>\n      <td>0.0</td>\n      <td>0.0</td>\n      <td>0.0</td>\n      <td>1.0</td>\n      <td>1.0</td>\n    </tr>\n    <tr>\n      <th>37846</th>\n      <td>377226</td>\n      <td>Cash loans</td>\n      <td>F</td>\n      <td>N</td>\n      <td>Y</td>\n      <td>1</td>\n      <td>90000.0</td>\n      <td>481176.0</td>\n      <td>23278.5</td>\n      <td>360000.0</td>\n      <td>...</td>\n      <td>0</td>\n      <td>0</td>\n      <td>0</td>\n      <td>0</td>\n      <td>0.0</td>\n      <td>0.0</td>\n      <td>0.0</td>\n      <td>0.0</td>\n      <td>1.0</td>\n      <td>1.0</td>\n    </tr>\n    <tr>\n      <th>20586</th>\n      <td>249333</td>\n      <td>Cash loans</td>\n      <td>M</td>\n      <td>N</td>\n      <td>N</td>\n      <td>0</td>\n      <td>180000.0</td>\n      <td>1350000.0</td>\n      <td>57199.5</td>\n      <td>1350000.0</td>\n      <td>...</td>\n      <td>0</td>\n      <td>0</td>\n      <td>0</td>\n      <td>0</td>\n      <td>0.0</td>\n      <td>0.0</td>\n      <td>0.0</td>\n      <td>0.0</td>\n      <td>0.0</td>\n      <td>0.0</td>\n    </tr>\n  </tbody>\n</table>\n<p>10 rows × 121 columns</p>\n</div>"
     },
     "execution_count": 22,
     "metadata": {},
     "output_type": "execute_result"
    }
   ],
   "source": [
    "# Make a list \"null values are being handled in each field.\"\n",
    "app_test.sample(10)"
   ],
   "metadata": {
    "collapsed": false
   }
  },
  {
   "cell_type": "code",
   "execution_count": 24,
   "outputs": [
    {
     "data": {
      "text/plain": "         SK_ID_PREV  SK_ID_CURR  MONTHS_BALANCE  AMT_BALANCE  \\\n1047880     1921520      408526              -6        0.000   \n3575717     1184803      267307             -48        0.000   \n598486      2552628      138392              -1        0.000   \n3351123     1302543      300102             -68    71361.090   \n1302824     2044350      130229             -64    64754.280   \n2918657     1157033      173799             -53       67.500   \n2732112     2681996      310976             -45        0.000   \n2574491     1999608      395959             -20        0.000   \n2221795     1998103      365184             -82   187174.845   \n3090546     1564315      417605             -38      364.230   \n\n         AMT_CREDIT_LIMIT_ACTUAL  AMT_DRAWINGS_ATM_CURRENT  \\\n1047880                    90000                       0.0   \n3575717                   180000                       0.0   \n598486                    202500                       NaN   \n3351123                    90000                    6750.0   \n1302824                    67500                       0.0   \n2918657                    67500                       0.0   \n2732112                        0                       NaN   \n2574491                   112500                       0.0   \n2221795                   180000                    3375.0   \n3090546                        0                       0.0   \n\n         AMT_DRAWINGS_CURRENT  AMT_DRAWINGS_OTHER_CURRENT  \\\n1047880                   0.0                         0.0   \n3575717                   0.0                         0.0   \n598486                    0.0                         NaN   \n3351123                6750.0                         0.0   \n1302824                5715.0                         0.0   \n2918657                   0.0                         0.0   \n2732112                   0.0                         NaN   \n2574491                   0.0                         0.0   \n2221795                3375.0                         0.0   \n3090546                   0.0                         0.0   \n\n         AMT_DRAWINGS_POS_CURRENT  AMT_INST_MIN_REGULARITY  ...  \\\n1047880                       0.0                      0.0  ...   \n3575717                       0.0                      0.0  ...   \n598486                        NaN                      0.0  ...   \n3351123                       0.0                   4500.0  ...   \n1302824                    5715.0                   3375.0  ...   \n2918657                       0.0                     67.5  ...   \n2732112                       NaN                      NaN  ...   \n2574491                       0.0                      0.0  ...   \n2221795                       0.0                   9000.0  ...   \n3090546                       0.0                      0.0  ...   \n\n         AMT_RECIVABLE  AMT_TOTAL_RECEIVABLE  CNT_DRAWINGS_ATM_CURRENT  \\\n1047880          0.000                 0.000                       0.0   \n3575717          0.000                 0.000                       0.0   \n598486           0.000                 0.000                       NaN   \n3351123      71361.090             71361.090                       1.0   \n1302824      64754.280             64754.280                       0.0   \n2918657          0.000                 0.000                       0.0   \n2732112          0.000                 0.000                       NaN   \n2574491          0.000                 0.000                       0.0   \n2221795     187174.845            187174.845                       4.0   \n3090546        364.230               364.230                       0.0   \n\n         CNT_DRAWINGS_CURRENT  CNT_DRAWINGS_OTHER_CURRENT  \\\n1047880                     0                         0.0   \n3575717                     0                         0.0   \n598486                      0                         NaN   \n3351123                     1                         0.0   \n1302824                     1                         0.0   \n2918657                     0                         0.0   \n2732112                     0                         NaN   \n2574491                     0                         0.0   \n2221795                     4                         0.0   \n3090546                     1                         1.0   \n\n         CNT_DRAWINGS_POS_CURRENT  CNT_INSTALMENT_MATURE_CUM  \\\n1047880                       0.0                       50.0   \n3575717                       0.0                       22.0   \n598486                        NaN                        0.0   \n3351123                       0.0                       11.0   \n1302824                       1.0                       24.0   \n2918657                       0.0                       38.0   \n2732112                       NaN                        NaN   \n2574491                       0.0                        4.0   \n2221795                       0.0                       10.0   \n3090546                       0.0                       29.0   \n\n         NAME_CONTRACT_STATUS  SK_DPD  SK_DPD_DEF  \n1047880             Completed       0           0  \n3575717                Active       0           0  \n598486                 Active       0           0  \n3351123                Active       0           0  \n1302824                Active       0           0  \n2918657                Active       0           0  \n2732112                Active       0           0  \n2574491                Active       0           0  \n2221795                Active       0           0  \n3090546                Active       0           0  \n\n[10 rows x 23 columns]",
      "text/html": "<div>\n<style scoped>\n    .dataframe tbody tr th:only-of-type {\n        vertical-align: middle;\n    }\n\n    .dataframe tbody tr th {\n        vertical-align: top;\n    }\n\n    .dataframe thead th {\n        text-align: right;\n    }\n</style>\n<table border=\"1\" class=\"dataframe\">\n  <thead>\n    <tr style=\"text-align: right;\">\n      <th></th>\n      <th>SK_ID_PREV</th>\n      <th>SK_ID_CURR</th>\n      <th>MONTHS_BALANCE</th>\n      <th>AMT_BALANCE</th>\n      <th>AMT_CREDIT_LIMIT_ACTUAL</th>\n      <th>AMT_DRAWINGS_ATM_CURRENT</th>\n      <th>AMT_DRAWINGS_CURRENT</th>\n      <th>AMT_DRAWINGS_OTHER_CURRENT</th>\n      <th>AMT_DRAWINGS_POS_CURRENT</th>\n      <th>AMT_INST_MIN_REGULARITY</th>\n      <th>...</th>\n      <th>AMT_RECIVABLE</th>\n      <th>AMT_TOTAL_RECEIVABLE</th>\n      <th>CNT_DRAWINGS_ATM_CURRENT</th>\n      <th>CNT_DRAWINGS_CURRENT</th>\n      <th>CNT_DRAWINGS_OTHER_CURRENT</th>\n      <th>CNT_DRAWINGS_POS_CURRENT</th>\n      <th>CNT_INSTALMENT_MATURE_CUM</th>\n      <th>NAME_CONTRACT_STATUS</th>\n      <th>SK_DPD</th>\n      <th>SK_DPD_DEF</th>\n    </tr>\n  </thead>\n  <tbody>\n    <tr>\n      <th>1047880</th>\n      <td>1921520</td>\n      <td>408526</td>\n      <td>-6</td>\n      <td>0.000</td>\n      <td>90000</td>\n      <td>0.0</td>\n      <td>0.0</td>\n      <td>0.0</td>\n      <td>0.0</td>\n      <td>0.0</td>\n      <td>...</td>\n      <td>0.000</td>\n      <td>0.000</td>\n      <td>0.0</td>\n      <td>0</td>\n      <td>0.0</td>\n      <td>0.0</td>\n      <td>50.0</td>\n      <td>Completed</td>\n      <td>0</td>\n      <td>0</td>\n    </tr>\n    <tr>\n      <th>3575717</th>\n      <td>1184803</td>\n      <td>267307</td>\n      <td>-48</td>\n      <td>0.000</td>\n      <td>180000</td>\n      <td>0.0</td>\n      <td>0.0</td>\n      <td>0.0</td>\n      <td>0.0</td>\n      <td>0.0</td>\n      <td>...</td>\n      <td>0.000</td>\n      <td>0.000</td>\n      <td>0.0</td>\n      <td>0</td>\n      <td>0.0</td>\n      <td>0.0</td>\n      <td>22.0</td>\n      <td>Active</td>\n      <td>0</td>\n      <td>0</td>\n    </tr>\n    <tr>\n      <th>598486</th>\n      <td>2552628</td>\n      <td>138392</td>\n      <td>-1</td>\n      <td>0.000</td>\n      <td>202500</td>\n      <td>NaN</td>\n      <td>0.0</td>\n      <td>NaN</td>\n      <td>NaN</td>\n      <td>0.0</td>\n      <td>...</td>\n      <td>0.000</td>\n      <td>0.000</td>\n      <td>NaN</td>\n      <td>0</td>\n      <td>NaN</td>\n      <td>NaN</td>\n      <td>0.0</td>\n      <td>Active</td>\n      <td>0</td>\n      <td>0</td>\n    </tr>\n    <tr>\n      <th>3351123</th>\n      <td>1302543</td>\n      <td>300102</td>\n      <td>-68</td>\n      <td>71361.090</td>\n      <td>90000</td>\n      <td>6750.0</td>\n      <td>6750.0</td>\n      <td>0.0</td>\n      <td>0.0</td>\n      <td>4500.0</td>\n      <td>...</td>\n      <td>71361.090</td>\n      <td>71361.090</td>\n      <td>1.0</td>\n      <td>1</td>\n      <td>0.0</td>\n      <td>0.0</td>\n      <td>11.0</td>\n      <td>Active</td>\n      <td>0</td>\n      <td>0</td>\n    </tr>\n    <tr>\n      <th>1302824</th>\n      <td>2044350</td>\n      <td>130229</td>\n      <td>-64</td>\n      <td>64754.280</td>\n      <td>67500</td>\n      <td>0.0</td>\n      <td>5715.0</td>\n      <td>0.0</td>\n      <td>5715.0</td>\n      <td>3375.0</td>\n      <td>...</td>\n      <td>64754.280</td>\n      <td>64754.280</td>\n      <td>0.0</td>\n      <td>1</td>\n      <td>0.0</td>\n      <td>1.0</td>\n      <td>24.0</td>\n      <td>Active</td>\n      <td>0</td>\n      <td>0</td>\n    </tr>\n    <tr>\n      <th>2918657</th>\n      <td>1157033</td>\n      <td>173799</td>\n      <td>-53</td>\n      <td>67.500</td>\n      <td>67500</td>\n      <td>0.0</td>\n      <td>0.0</td>\n      <td>0.0</td>\n      <td>0.0</td>\n      <td>67.5</td>\n      <td>...</td>\n      <td>0.000</td>\n      <td>0.000</td>\n      <td>0.0</td>\n      <td>0</td>\n      <td>0.0</td>\n      <td>0.0</td>\n      <td>38.0</td>\n      <td>Active</td>\n      <td>0</td>\n      <td>0</td>\n    </tr>\n    <tr>\n      <th>2732112</th>\n      <td>2681996</td>\n      <td>310976</td>\n      <td>-45</td>\n      <td>0.000</td>\n      <td>0</td>\n      <td>NaN</td>\n      <td>0.0</td>\n      <td>NaN</td>\n      <td>NaN</td>\n      <td>NaN</td>\n      <td>...</td>\n      <td>0.000</td>\n      <td>0.000</td>\n      <td>NaN</td>\n      <td>0</td>\n      <td>NaN</td>\n      <td>NaN</td>\n      <td>NaN</td>\n      <td>Active</td>\n      <td>0</td>\n      <td>0</td>\n    </tr>\n    <tr>\n      <th>2574491</th>\n      <td>1999608</td>\n      <td>395959</td>\n      <td>-20</td>\n      <td>0.000</td>\n      <td>112500</td>\n      <td>0.0</td>\n      <td>0.0</td>\n      <td>0.0</td>\n      <td>0.0</td>\n      <td>0.0</td>\n      <td>...</td>\n      <td>0.000</td>\n      <td>0.000</td>\n      <td>0.0</td>\n      <td>0</td>\n      <td>0.0</td>\n      <td>0.0</td>\n      <td>4.0</td>\n      <td>Active</td>\n      <td>0</td>\n      <td>0</td>\n    </tr>\n    <tr>\n      <th>2221795</th>\n      <td>1998103</td>\n      <td>365184</td>\n      <td>-82</td>\n      <td>187174.845</td>\n      <td>180000</td>\n      <td>3375.0</td>\n      <td>3375.0</td>\n      <td>0.0</td>\n      <td>0.0</td>\n      <td>9000.0</td>\n      <td>...</td>\n      <td>187174.845</td>\n      <td>187174.845</td>\n      <td>4.0</td>\n      <td>4</td>\n      <td>0.0</td>\n      <td>0.0</td>\n      <td>10.0</td>\n      <td>Active</td>\n      <td>0</td>\n      <td>0</td>\n    </tr>\n    <tr>\n      <th>3090546</th>\n      <td>1564315</td>\n      <td>417605</td>\n      <td>-38</td>\n      <td>364.230</td>\n      <td>0</td>\n      <td>0.0</td>\n      <td>0.0</td>\n      <td>0.0</td>\n      <td>0.0</td>\n      <td>0.0</td>\n      <td>...</td>\n      <td>364.230</td>\n      <td>364.230</td>\n      <td>0.0</td>\n      <td>1</td>\n      <td>1.0</td>\n      <td>0.0</td>\n      <td>29.0</td>\n      <td>Active</td>\n      <td>0</td>\n      <td>0</td>\n    </tr>\n  </tbody>\n</table>\n<p>10 rows × 23 columns</p>\n</div>"
     },
     "execution_count": 24,
     "metadata": {},
     "output_type": "execute_result"
    }
   ],
   "source": [
    "# Make a list \"null values are being handled in each field.\"\n",
    "cc_balance.sample(10)"
   ],
   "metadata": {
    "collapsed": false
   }
  },
  {
   "cell_type": "code",
   "execution_count": 23,
   "outputs": [
    {
     "data": {
      "text/plain": "        SK_ID_CURR NAME_CONTRACT_TYPE CODE_GENDER FLAG_OWN_CAR  \\\n100520      156963         Cash loans           F            N   \n291119      261293         Cash loans           M            N   \n515423      386287         Cash loans           M            Y   \n502197      378117         Cash loans           F            N   \n31040       117399         Cash loans           F            N   \n239636      231785         Cash loans           M            N   \n518600      388169         Cash loans           F            N   \n83250       146623         Cash loans           F            N   \n148996      183076         Cash loans           F            Y   \n292287      261906         Cash loans           F            N   \n\n       FLAG_OWN_REALTY  CNT_CHILDREN  AMT_INCOME_TOTAL  AMT_CREDIT  \\\n100520               Y             0          121500.0    296280.0   \n291119               Y             2          180000.0    495000.0   \n515423               Y             1          270000.0   2102490.0   \n502197               N             0          171000.0    621346.5   \n31040                N             0          225000.0   1572750.0   \n239636               N             1          112500.0    495000.0   \n518600               Y             0          301500.0    490495.5   \n83250                Y             1          144000.0    675000.0   \n148996               Y             0          202500.0    681633.0   \n292287               Y             0          243000.0    487971.0   \n\n        AMT_ANNUITY  AMT_GOODS_PRICE  ... AMT_RECIVABLE AMT_TOTAL_RECEIVABLE  \\\n100520      15255.0         225000.0  ...     88671.915            88671.915   \n291119      21933.0         495000.0  ...         0.000                0.000   \n515423      65389.5        1755000.0  ...         0.000                0.000   \n502197      22446.0         513000.0  ...         0.000                0.000   \n31040       48946.5        1350000.0  ...         0.000                0.000   \n239636      23814.0         495000.0  ...     77592.240            77592.240   \n518600      34267.5         454500.0  ...     67394.745            67394.745   \n83250       21906.0         675000.0  ...     58398.030            58398.030   \n148996      22117.5         477000.0  ...    414177.030           414177.030   \n292287      48393.0         463500.0  ...         0.000                0.000   \n\n       CNT_DRAWINGS_ATM_CURRENT CNT_DRAWINGS_CURRENT  \\\n100520                      1.0                  1.0   \n291119                      0.0                  0.0   \n515423                      0.0                  0.0   \n502197                      0.0                  0.0   \n31040                       0.0                  0.0   \n239636                      2.0                  3.0   \n518600                      0.0                  0.0   \n83250                       0.0                  0.0   \n148996                      0.0                  0.0   \n292287                      0.0                  0.0   \n\n       CNT_DRAWINGS_OTHER_CURRENT  CNT_DRAWINGS_POS_CURRENT  \\\n100520                        0.0                       0.0   \n291119                        0.0                       0.0   \n515423                        0.0                       0.0   \n502197                        0.0                       0.0   \n31040                         0.0                       0.0   \n239636                        0.0                       1.0   \n518600                        0.0                       0.0   \n83250                         0.0                       0.0   \n148996                        0.0                       0.0   \n292287                        0.0                       0.0   \n\n        CNT_INSTALMENT_MATURE_CUM  NAME_CONTRACT_STATUS  SK_DPD  SK_DPD_DEF  \n100520                        6.0                Active     0.0         0.0  \n291119                        0.0                Active     0.0         0.0  \n515423                        5.0                Active     0.0         0.0  \n502197                       72.0                Active     0.0         0.0  \n31040                        15.0                Active     0.0         0.0  \n239636                        9.0                Active     0.0         0.0  \n518600                       29.0                Active     0.0         0.0  \n83250                         6.0                Active     0.0         0.0  \n148996                       11.0                Active     0.0         0.0  \n292287                       39.0                Active     0.0         0.0  \n\n[10 rows x 143 columns]",
      "text/html": "<div>\n<style scoped>\n    .dataframe tbody tr th:only-of-type {\n        vertical-align: middle;\n    }\n\n    .dataframe tbody tr th {\n        vertical-align: top;\n    }\n\n    .dataframe thead th {\n        text-align: right;\n    }\n</style>\n<table border=\"1\" class=\"dataframe\">\n  <thead>\n    <tr style=\"text-align: right;\">\n      <th></th>\n      <th>SK_ID_CURR</th>\n      <th>NAME_CONTRACT_TYPE</th>\n      <th>CODE_GENDER</th>\n      <th>FLAG_OWN_CAR</th>\n      <th>FLAG_OWN_REALTY</th>\n      <th>CNT_CHILDREN</th>\n      <th>AMT_INCOME_TOTAL</th>\n      <th>AMT_CREDIT</th>\n      <th>AMT_ANNUITY</th>\n      <th>AMT_GOODS_PRICE</th>\n      <th>...</th>\n      <th>AMT_RECIVABLE</th>\n      <th>AMT_TOTAL_RECEIVABLE</th>\n      <th>CNT_DRAWINGS_ATM_CURRENT</th>\n      <th>CNT_DRAWINGS_CURRENT</th>\n      <th>CNT_DRAWINGS_OTHER_CURRENT</th>\n      <th>CNT_DRAWINGS_POS_CURRENT</th>\n      <th>CNT_INSTALMENT_MATURE_CUM</th>\n      <th>NAME_CONTRACT_STATUS</th>\n      <th>SK_DPD</th>\n      <th>SK_DPD_DEF</th>\n    </tr>\n  </thead>\n  <tbody>\n    <tr>\n      <th>100520</th>\n      <td>156963</td>\n      <td>Cash loans</td>\n      <td>F</td>\n      <td>N</td>\n      <td>Y</td>\n      <td>0</td>\n      <td>121500.0</td>\n      <td>296280.0</td>\n      <td>15255.0</td>\n      <td>225000.0</td>\n      <td>...</td>\n      <td>88671.915</td>\n      <td>88671.915</td>\n      <td>1.0</td>\n      <td>1.0</td>\n      <td>0.0</td>\n      <td>0.0</td>\n      <td>6.0</td>\n      <td>Active</td>\n      <td>0.0</td>\n      <td>0.0</td>\n    </tr>\n    <tr>\n      <th>291119</th>\n      <td>261293</td>\n      <td>Cash loans</td>\n      <td>M</td>\n      <td>N</td>\n      <td>Y</td>\n      <td>2</td>\n      <td>180000.0</td>\n      <td>495000.0</td>\n      <td>21933.0</td>\n      <td>495000.0</td>\n      <td>...</td>\n      <td>0.000</td>\n      <td>0.000</td>\n      <td>0.0</td>\n      <td>0.0</td>\n      <td>0.0</td>\n      <td>0.0</td>\n      <td>0.0</td>\n      <td>Active</td>\n      <td>0.0</td>\n      <td>0.0</td>\n    </tr>\n    <tr>\n      <th>515423</th>\n      <td>386287</td>\n      <td>Cash loans</td>\n      <td>M</td>\n      <td>Y</td>\n      <td>Y</td>\n      <td>1</td>\n      <td>270000.0</td>\n      <td>2102490.0</td>\n      <td>65389.5</td>\n      <td>1755000.0</td>\n      <td>...</td>\n      <td>0.000</td>\n      <td>0.000</td>\n      <td>0.0</td>\n      <td>0.0</td>\n      <td>0.0</td>\n      <td>0.0</td>\n      <td>5.0</td>\n      <td>Active</td>\n      <td>0.0</td>\n      <td>0.0</td>\n    </tr>\n    <tr>\n      <th>502197</th>\n      <td>378117</td>\n      <td>Cash loans</td>\n      <td>F</td>\n      <td>N</td>\n      <td>N</td>\n      <td>0</td>\n      <td>171000.0</td>\n      <td>621346.5</td>\n      <td>22446.0</td>\n      <td>513000.0</td>\n      <td>...</td>\n      <td>0.000</td>\n      <td>0.000</td>\n      <td>0.0</td>\n      <td>0.0</td>\n      <td>0.0</td>\n      <td>0.0</td>\n      <td>72.0</td>\n      <td>Active</td>\n      <td>0.0</td>\n      <td>0.0</td>\n    </tr>\n    <tr>\n      <th>31040</th>\n      <td>117399</td>\n      <td>Cash loans</td>\n      <td>F</td>\n      <td>N</td>\n      <td>N</td>\n      <td>0</td>\n      <td>225000.0</td>\n      <td>1572750.0</td>\n      <td>48946.5</td>\n      <td>1350000.0</td>\n      <td>...</td>\n      <td>0.000</td>\n      <td>0.000</td>\n      <td>0.0</td>\n      <td>0.0</td>\n      <td>0.0</td>\n      <td>0.0</td>\n      <td>15.0</td>\n      <td>Active</td>\n      <td>0.0</td>\n      <td>0.0</td>\n    </tr>\n    <tr>\n      <th>239636</th>\n      <td>231785</td>\n      <td>Cash loans</td>\n      <td>M</td>\n      <td>N</td>\n      <td>N</td>\n      <td>1</td>\n      <td>112500.0</td>\n      <td>495000.0</td>\n      <td>23814.0</td>\n      <td>495000.0</td>\n      <td>...</td>\n      <td>77592.240</td>\n      <td>77592.240</td>\n      <td>2.0</td>\n      <td>3.0</td>\n      <td>0.0</td>\n      <td>1.0</td>\n      <td>9.0</td>\n      <td>Active</td>\n      <td>0.0</td>\n      <td>0.0</td>\n    </tr>\n    <tr>\n      <th>518600</th>\n      <td>388169</td>\n      <td>Cash loans</td>\n      <td>F</td>\n      <td>N</td>\n      <td>Y</td>\n      <td>0</td>\n      <td>301500.0</td>\n      <td>490495.5</td>\n      <td>34267.5</td>\n      <td>454500.0</td>\n      <td>...</td>\n      <td>67394.745</td>\n      <td>67394.745</td>\n      <td>0.0</td>\n      <td>0.0</td>\n      <td>0.0</td>\n      <td>0.0</td>\n      <td>29.0</td>\n      <td>Active</td>\n      <td>0.0</td>\n      <td>0.0</td>\n    </tr>\n    <tr>\n      <th>83250</th>\n      <td>146623</td>\n      <td>Cash loans</td>\n      <td>F</td>\n      <td>N</td>\n      <td>Y</td>\n      <td>1</td>\n      <td>144000.0</td>\n      <td>675000.0</td>\n      <td>21906.0</td>\n      <td>675000.0</td>\n      <td>...</td>\n      <td>58398.030</td>\n      <td>58398.030</td>\n      <td>0.0</td>\n      <td>0.0</td>\n      <td>0.0</td>\n      <td>0.0</td>\n      <td>6.0</td>\n      <td>Active</td>\n      <td>0.0</td>\n      <td>0.0</td>\n    </tr>\n    <tr>\n      <th>148996</th>\n      <td>183076</td>\n      <td>Cash loans</td>\n      <td>F</td>\n      <td>Y</td>\n      <td>Y</td>\n      <td>0</td>\n      <td>202500.0</td>\n      <td>681633.0</td>\n      <td>22117.5</td>\n      <td>477000.0</td>\n      <td>...</td>\n      <td>414177.030</td>\n      <td>414177.030</td>\n      <td>0.0</td>\n      <td>0.0</td>\n      <td>0.0</td>\n      <td>0.0</td>\n      <td>11.0</td>\n      <td>Active</td>\n      <td>0.0</td>\n      <td>0.0</td>\n    </tr>\n    <tr>\n      <th>292287</th>\n      <td>261906</td>\n      <td>Cash loans</td>\n      <td>F</td>\n      <td>N</td>\n      <td>Y</td>\n      <td>0</td>\n      <td>243000.0</td>\n      <td>487971.0</td>\n      <td>48393.0</td>\n      <td>463500.0</td>\n      <td>...</td>\n      <td>0.000</td>\n      <td>0.000</td>\n      <td>0.0</td>\n      <td>0.0</td>\n      <td>0.0</td>\n      <td>0.0</td>\n      <td>39.0</td>\n      <td>Active</td>\n      <td>0.0</td>\n      <td>0.0</td>\n    </tr>\n  </tbody>\n</table>\n<p>10 rows × 143 columns</p>\n</div>"
     },
     "execution_count": 23,
     "metadata": {},
     "output_type": "execute_result"
    }
   ],
   "source": [
    "# Make a list \"null values are being handled in each field.\"\n",
    "merged_df_left.sample(10)"
   ],
   "metadata": {
    "collapsed": false
   }
  },
  {
   "cell_type": "code",
   "execution_count": 25,
   "outputs": [
    {
     "name": "stdout",
     "output_type": "stream",
     "text": [
      "Columns with null values:\n",
      "Index(['AMT_ANNUITY', 'NAME_TYPE_SUITE', 'OWN_CAR_AGE', 'OCCUPATION_TYPE',\n",
      "       'EXT_SOURCE_1', 'EXT_SOURCE_2', 'EXT_SOURCE_3', 'APARTMENTS_AVG',\n",
      "       'BASEMENTAREA_AVG', 'YEARS_BEGINEXPLUATATION_AVG', 'YEARS_BUILD_AVG',\n",
      "       'COMMONAREA_AVG', 'ELEVATORS_AVG', 'ENTRANCES_AVG', 'FLOORSMAX_AVG',\n",
      "       'FLOORSMIN_AVG', 'LANDAREA_AVG', 'LIVINGAPARTMENTS_AVG',\n",
      "       'LIVINGAREA_AVG', 'NONLIVINGAPARTMENTS_AVG', 'NONLIVINGAREA_AVG',\n",
      "       'APARTMENTS_MODE', 'BASEMENTAREA_MODE', 'YEARS_BEGINEXPLUATATION_MODE',\n",
      "       'YEARS_BUILD_MODE', 'COMMONAREA_MODE', 'ELEVATORS_MODE',\n",
      "       'ENTRANCES_MODE', 'FLOORSMAX_MODE', 'FLOORSMIN_MODE', 'LANDAREA_MODE',\n",
      "       'LIVINGAPARTMENTS_MODE', 'LIVINGAREA_MODE', 'NONLIVINGAPARTMENTS_MODE',\n",
      "       'NONLIVINGAREA_MODE', 'APARTMENTS_MEDI', 'BASEMENTAREA_MEDI',\n",
      "       'YEARS_BEGINEXPLUATATION_MEDI', 'YEARS_BUILD_MEDI', 'COMMONAREA_MEDI',\n",
      "       'ELEVATORS_MEDI', 'ENTRANCES_MEDI', 'FLOORSMAX_MEDI', 'FLOORSMIN_MEDI',\n",
      "       'LANDAREA_MEDI', 'LIVINGAPARTMENTS_MEDI', 'LIVINGAREA_MEDI',\n",
      "       'NONLIVINGAPARTMENTS_MEDI', 'NONLIVINGAREA_MEDI', 'FONDKAPREMONT_MODE',\n",
      "       'HOUSETYPE_MODE', 'TOTALAREA_MODE', 'WALLSMATERIAL_MODE',\n",
      "       'EMERGENCYSTATE_MODE', 'OBS_30_CNT_SOCIAL_CIRCLE',\n",
      "       'DEF_30_CNT_SOCIAL_CIRCLE', 'OBS_60_CNT_SOCIAL_CIRCLE',\n",
      "       'DEF_60_CNT_SOCIAL_CIRCLE', 'AMT_REQ_CREDIT_BUREAU_HOUR',\n",
      "       'AMT_REQ_CREDIT_BUREAU_DAY', 'AMT_REQ_CREDIT_BUREAU_WEEK',\n",
      "       'AMT_REQ_CREDIT_BUREAU_MON', 'AMT_REQ_CREDIT_BUREAU_QRT',\n",
      "       'AMT_REQ_CREDIT_BUREAU_YEAR', 'SK_ID_PREV', 'MONTHS_BALANCE',\n",
      "       'AMT_BALANCE', 'AMT_CREDIT_LIMIT_ACTUAL', 'AMT_DRAWINGS_ATM_CURRENT',\n",
      "       'AMT_DRAWINGS_CURRENT', 'AMT_DRAWINGS_OTHER_CURRENT',\n",
      "       'AMT_DRAWINGS_POS_CURRENT', 'AMT_INST_MIN_REGULARITY',\n",
      "       'AMT_PAYMENT_CURRENT', 'AMT_PAYMENT_TOTAL_CURRENT',\n",
      "       'AMT_RECEIVABLE_PRINCIPAL', 'AMT_RECIVABLE', 'AMT_TOTAL_RECEIVABLE',\n",
      "       'CNT_DRAWINGS_ATM_CURRENT', 'CNT_DRAWINGS_CURRENT',\n",
      "       'CNT_DRAWINGS_OTHER_CURRENT', 'CNT_DRAWINGS_POS_CURRENT',\n",
      "       'CNT_INSTALMENT_MATURE_CUM', 'NAME_CONTRACT_STATUS', 'SK_DPD',\n",
      "       'SK_DPD_DEF'],\n",
      "      dtype='object')\n",
      "\n",
      "Count of null values in each column:\n",
      "AMT_ANNUITY                     360\n",
      "NAME_TYPE_SUITE               12474\n",
      "OWN_CAR_AGE                  424310\n",
      "OCCUPATION_TYPE              196697\n",
      "EXT_SOURCE_1                 264116\n",
      "                              ...  \n",
      "CNT_DRAWINGS_POS_CURRENT     176153\n",
      "CNT_INSTALMENT_MATURE_CUM     72943\n",
      "NAME_CONTRACT_STATUS          32091\n",
      "SK_DPD                        32091\n",
      "SK_DPD_DEF                    32091\n",
      "Length: 86, dtype: int64\n"
     ]
    }
   ],
   "source": [
    "# Create a boolean mask for null values\n",
    "null_mask = merged_df_left.isna()\n",
    "\n",
    "# Identify columns with at least one null value\n",
    "columns_with_null = null_mask.any()\n",
    "\n",
    "# Print the columns with null values\n",
    "print(\"Columns with null values:\")\n",
    "print(columns_with_null[columns_with_null].index)\n",
    "\n",
    "# Alternatively, you can count the number of null values in each column\n",
    "null_count = null_mask.sum()\n",
    "\n",
    "# Print the count of null values in each column\n",
    "print(\"\\nCount of null values in each column:\")\n",
    "print(null_count[null_count > 0])\n"
   ],
   "metadata": {
    "collapsed": false
   }
  },
  {
   "cell_type": "code",
   "execution_count": 26,
   "outputs": [
    {
     "ename": "KeyError",
     "evalue": "['column1']",
     "output_type": "error",
     "traceback": [
      "\u001B[0;31m---------------------------------------------------------------------------\u001B[0m",
      "\u001B[0;31mKeyError\u001B[0m                                  Traceback (most recent call last)",
      "Cell \u001B[0;32mIn[26], line 5\u001B[0m\n\u001B[1;32m      2\u001B[0m cleaned_df \u001B[38;5;241m=\u001B[39m merged_df_left\u001B[38;5;241m.\u001B[39mcopy()\n\u001B[1;32m      4\u001B[0m \u001B[38;5;66;03m# Example: Drop rows with null values in column 'column1'\u001B[39;00m\n\u001B[0;32m----> 5\u001B[0m \u001B[43mcleaned_df\u001B[49m\u001B[38;5;241;43m.\u001B[39;49m\u001B[43mdropna\u001B[49m\u001B[43m(\u001B[49m\u001B[43msubset\u001B[49m\u001B[38;5;241;43m=\u001B[39;49m\u001B[43m[\u001B[49m\u001B[38;5;124;43m'\u001B[39;49m\u001B[38;5;124;43mcolumn1\u001B[39;49m\u001B[38;5;124;43m'\u001B[39;49m\u001B[43m]\u001B[49m\u001B[43m,\u001B[49m\u001B[43m \u001B[49m\u001B[43minplace\u001B[49m\u001B[38;5;241;43m=\u001B[39;49m\u001B[38;5;28;43;01mTrue\u001B[39;49;00m\u001B[43m)\u001B[49m\n\u001B[1;32m      7\u001B[0m \u001B[38;5;66;03m# Example: Fill null values in column 'column2' with the mean of the column\u001B[39;00m\n\u001B[1;32m      8\u001B[0m column2_mean \u001B[38;5;241m=\u001B[39m cleaned_df[\u001B[38;5;124m'\u001B[39m\u001B[38;5;124mcolumn2\u001B[39m\u001B[38;5;124m'\u001B[39m]\u001B[38;5;241m.\u001B[39mmean()\n",
      "File \u001B[0;32m/opt/miniconda3/envs/0007-ga-lab-home-credit/lib/python3.10/site-packages/pandas/util/_decorators.py:331\u001B[0m, in \u001B[0;36mdeprecate_nonkeyword_arguments.<locals>.decorate.<locals>.wrapper\u001B[0;34m(*args, **kwargs)\u001B[0m\n\u001B[1;32m    325\u001B[0m \u001B[38;5;28;01mif\u001B[39;00m \u001B[38;5;28mlen\u001B[39m(args) \u001B[38;5;241m>\u001B[39m num_allow_args:\n\u001B[1;32m    326\u001B[0m     warnings\u001B[38;5;241m.\u001B[39mwarn(\n\u001B[1;32m    327\u001B[0m         msg\u001B[38;5;241m.\u001B[39mformat(arguments\u001B[38;5;241m=\u001B[39m_format_argument_list(allow_args)),\n\u001B[1;32m    328\u001B[0m         \u001B[38;5;167;01mFutureWarning\u001B[39;00m,\n\u001B[1;32m    329\u001B[0m         stacklevel\u001B[38;5;241m=\u001B[39mfind_stack_level(),\n\u001B[1;32m    330\u001B[0m     )\n\u001B[0;32m--> 331\u001B[0m \u001B[38;5;28;01mreturn\u001B[39;00m \u001B[43mfunc\u001B[49m\u001B[43m(\u001B[49m\u001B[38;5;241;43m*\u001B[39;49m\u001B[43margs\u001B[49m\u001B[43m,\u001B[49m\u001B[43m \u001B[49m\u001B[38;5;241;43m*\u001B[39;49m\u001B[38;5;241;43m*\u001B[39;49m\u001B[43mkwargs\u001B[49m\u001B[43m)\u001B[49m\n",
      "File \u001B[0;32m/opt/miniconda3/envs/0007-ga-lab-home-credit/lib/python3.10/site-packages/pandas/core/frame.py:6561\u001B[0m, in \u001B[0;36mDataFrame.dropna\u001B[0;34m(self, axis, how, thresh, subset, inplace)\u001B[0m\n\u001B[1;32m   6559\u001B[0m     check \u001B[38;5;241m=\u001B[39m indices \u001B[38;5;241m==\u001B[39m \u001B[38;5;241m-\u001B[39m\u001B[38;5;241m1\u001B[39m\n\u001B[1;32m   6560\u001B[0m     \u001B[38;5;28;01mif\u001B[39;00m check\u001B[38;5;241m.\u001B[39many():\n\u001B[0;32m-> 6561\u001B[0m         \u001B[38;5;28;01mraise\u001B[39;00m \u001B[38;5;167;01mKeyError\u001B[39;00m(np\u001B[38;5;241m.\u001B[39marray(subset)[check]\u001B[38;5;241m.\u001B[39mtolist())\n\u001B[1;32m   6562\u001B[0m     agg_obj \u001B[38;5;241m=\u001B[39m \u001B[38;5;28mself\u001B[39m\u001B[38;5;241m.\u001B[39mtake(indices, axis\u001B[38;5;241m=\u001B[39magg_axis)\n\u001B[1;32m   6564\u001B[0m \u001B[38;5;28;01mif\u001B[39;00m thresh \u001B[38;5;129;01mis\u001B[39;00m \u001B[38;5;129;01mnot\u001B[39;00m no_default:\n",
      "\u001B[0;31mKeyError\u001B[0m: ['column1']"
     ]
    }
   ],
   "source": [
    "    # Make a copy of the DataFrame to avoid modifying the original data\n",
    "    cleaned_df = merged_df_left.copy()\n",
    "    cleaned_df.sample(10)\n",
    "\n",
    "    # Example: Drop rows with null values in column 'column1'\n",
    "    cleaned_df.dropna(subset=['column1'], inplace=True)\n",
    "\n",
    "    # Example: Fill null values in column 'column2' with the mean of the column\n",
    "    column2_mean = cleaned_df['column2'].mean()\n",
    "    cleaned_df['column2'].fillna(column2_mean, inplace=True)\n",
    "\n",
    "    # Example: Fill null values in column 'column3' with a fixed value (e.g., 0)\n",
    "    cleaned_df['column3'].fillna(0, inplace=True)\n",
    "\n",
    "    # ... Add more cleaning steps for other columns as needed"
   ],
   "metadata": {
    "collapsed": false
   }
  },
  {
   "cell_type": "code",
   "execution_count": 29,
   "outputs": [
    {
     "data": {
      "text/plain": "        SK_ID_CURR NAME_CONTRACT_TYPE CODE_GENDER FLAG_OWN_CAR  \\\n585485      424850         Cash loans           M            Y   \n308212      270486         Cash loans           M            N   \n510891      383841         Cash loans           F            N   \n436880      339477         Cash loans           M            N   \n499728      376618         Cash loans           F            Y   \n176023      198187         Cash loans           F            Y   \n621772      444846         Cash loans           F            N   \n1434        100913         Cash loans           F            N   \n357820      298155         Cash loans           F            N   \n345065      291110         Cash loans           F            N   \n\n       FLAG_OWN_REALTY  CNT_CHILDREN  AMT_INCOME_TOTAL  AMT_CREDIT  \\\n585485               Y             0          135000.0    746280.0   \n308212               Y             1          112500.0    296280.0   \n510891               Y             0           67500.0    148140.0   \n436880               Y             0          180000.0    594121.5   \n499728               Y             1          157500.0    276277.5   \n176023               N             0          225000.0    182448.0   \n621772               Y             1          148500.0    182448.0   \n1434                 Y             0          157500.0    720000.0   \n357820               N             0           90000.0    558000.0   \n345065               Y             0          171000.0    240858.0   \n\n        AMT_ANNUITY  AMT_GOODS_PRICE  ... AMT_RECIVABLE AMT_TOTAL_RECEIVABLE  \\\n585485      59094.0         675000.0  ...         0.000                0.000   \n308212      21690.0         225000.0  ...    239908.050           239908.050   \n510891      11835.0         112500.0  ...    115692.030           115692.030   \n436880      26298.0         472500.0  ...         0.000                0.000   \n499728      20232.0         238500.0  ...     45071.505            45071.505   \n176023      19287.0         157500.0  ...         0.000                0.000   \n621772      19287.0         157500.0  ...         0.000                0.000   \n1434        30505.5         720000.0  ...    110117.430           110117.430   \n357820      18000.0         558000.0  ...     93296.655            93296.655   \n345065      27238.5         198000.0  ...           NaN                  NaN   \n\n       CNT_DRAWINGS_ATM_CURRENT CNT_DRAWINGS_CURRENT  \\\n585485                      NaN                  0.0   \n308212                      0.0                  0.0   \n510891                      1.0                  1.0   \n436880                      0.0                  0.0   \n499728                      0.0                  1.0   \n176023                      NaN                  0.0   \n621772                      0.0                  0.0   \n1434                        0.0                  0.0   \n357820                      0.0                  0.0   \n345065                      NaN                  NaN   \n\n       CNT_DRAWINGS_OTHER_CURRENT  CNT_DRAWINGS_POS_CURRENT  \\\n585485                        NaN                       NaN   \n308212                        0.0                       0.0   \n510891                        0.0                       0.0   \n436880                        0.0                       0.0   \n499728                        0.0                       1.0   \n176023                        NaN                       NaN   \n621772                        0.0                       0.0   \n1434                          0.0                       0.0   \n357820                        0.0                       0.0   \n345065                        NaN                       NaN   \n\n        CNT_INSTALMENT_MATURE_CUM  NAME_CONTRACT_STATUS  SK_DPD  SK_DPD_DEF  \n585485                        0.0                Active     0.0         0.0  \n308212                        9.0                Active     7.0         7.0  \n510891                       32.0                Active     0.0         0.0  \n436880                       46.0                Active     0.0         0.0  \n499728                        3.0                Active     0.0         0.0  \n176023                        0.0                Active     0.0         0.0  \n621772                       36.0                Active     0.0         0.0  \n1434                         63.0                Active     0.0         0.0  \n357820                        1.0                Active     0.0         0.0  \n345065                        NaN                   NaN     NaN         NaN  \n\n[10 rows x 143 columns]",
      "text/html": "<div>\n<style scoped>\n    .dataframe tbody tr th:only-of-type {\n        vertical-align: middle;\n    }\n\n    .dataframe tbody tr th {\n        vertical-align: top;\n    }\n\n    .dataframe thead th {\n        text-align: right;\n    }\n</style>\n<table border=\"1\" class=\"dataframe\">\n  <thead>\n    <tr style=\"text-align: right;\">\n      <th></th>\n      <th>SK_ID_CURR</th>\n      <th>NAME_CONTRACT_TYPE</th>\n      <th>CODE_GENDER</th>\n      <th>FLAG_OWN_CAR</th>\n      <th>FLAG_OWN_REALTY</th>\n      <th>CNT_CHILDREN</th>\n      <th>AMT_INCOME_TOTAL</th>\n      <th>AMT_CREDIT</th>\n      <th>AMT_ANNUITY</th>\n      <th>AMT_GOODS_PRICE</th>\n      <th>...</th>\n      <th>AMT_RECIVABLE</th>\n      <th>AMT_TOTAL_RECEIVABLE</th>\n      <th>CNT_DRAWINGS_ATM_CURRENT</th>\n      <th>CNT_DRAWINGS_CURRENT</th>\n      <th>CNT_DRAWINGS_OTHER_CURRENT</th>\n      <th>CNT_DRAWINGS_POS_CURRENT</th>\n      <th>CNT_INSTALMENT_MATURE_CUM</th>\n      <th>NAME_CONTRACT_STATUS</th>\n      <th>SK_DPD</th>\n      <th>SK_DPD_DEF</th>\n    </tr>\n  </thead>\n  <tbody>\n    <tr>\n      <th>585485</th>\n      <td>424850</td>\n      <td>Cash loans</td>\n      <td>M</td>\n      <td>Y</td>\n      <td>Y</td>\n      <td>0</td>\n      <td>135000.0</td>\n      <td>746280.0</td>\n      <td>59094.0</td>\n      <td>675000.0</td>\n      <td>...</td>\n      <td>0.000</td>\n      <td>0.000</td>\n      <td>NaN</td>\n      <td>0.0</td>\n      <td>NaN</td>\n      <td>NaN</td>\n      <td>0.0</td>\n      <td>Active</td>\n      <td>0.0</td>\n      <td>0.0</td>\n    </tr>\n    <tr>\n      <th>308212</th>\n      <td>270486</td>\n      <td>Cash loans</td>\n      <td>M</td>\n      <td>N</td>\n      <td>Y</td>\n      <td>1</td>\n      <td>112500.0</td>\n      <td>296280.0</td>\n      <td>21690.0</td>\n      <td>225000.0</td>\n      <td>...</td>\n      <td>239908.050</td>\n      <td>239908.050</td>\n      <td>0.0</td>\n      <td>0.0</td>\n      <td>0.0</td>\n      <td>0.0</td>\n      <td>9.0</td>\n      <td>Active</td>\n      <td>7.0</td>\n      <td>7.0</td>\n    </tr>\n    <tr>\n      <th>510891</th>\n      <td>383841</td>\n      <td>Cash loans</td>\n      <td>F</td>\n      <td>N</td>\n      <td>Y</td>\n      <td>0</td>\n      <td>67500.0</td>\n      <td>148140.0</td>\n      <td>11835.0</td>\n      <td>112500.0</td>\n      <td>...</td>\n      <td>115692.030</td>\n      <td>115692.030</td>\n      <td>1.0</td>\n      <td>1.0</td>\n      <td>0.0</td>\n      <td>0.0</td>\n      <td>32.0</td>\n      <td>Active</td>\n      <td>0.0</td>\n      <td>0.0</td>\n    </tr>\n    <tr>\n      <th>436880</th>\n      <td>339477</td>\n      <td>Cash loans</td>\n      <td>M</td>\n      <td>N</td>\n      <td>Y</td>\n      <td>0</td>\n      <td>180000.0</td>\n      <td>594121.5</td>\n      <td>26298.0</td>\n      <td>472500.0</td>\n      <td>...</td>\n      <td>0.000</td>\n      <td>0.000</td>\n      <td>0.0</td>\n      <td>0.0</td>\n      <td>0.0</td>\n      <td>0.0</td>\n      <td>46.0</td>\n      <td>Active</td>\n      <td>0.0</td>\n      <td>0.0</td>\n    </tr>\n    <tr>\n      <th>499728</th>\n      <td>376618</td>\n      <td>Cash loans</td>\n      <td>F</td>\n      <td>Y</td>\n      <td>Y</td>\n      <td>1</td>\n      <td>157500.0</td>\n      <td>276277.5</td>\n      <td>20232.0</td>\n      <td>238500.0</td>\n      <td>...</td>\n      <td>45071.505</td>\n      <td>45071.505</td>\n      <td>0.0</td>\n      <td>1.0</td>\n      <td>0.0</td>\n      <td>1.0</td>\n      <td>3.0</td>\n      <td>Active</td>\n      <td>0.0</td>\n      <td>0.0</td>\n    </tr>\n    <tr>\n      <th>176023</th>\n      <td>198187</td>\n      <td>Cash loans</td>\n      <td>F</td>\n      <td>Y</td>\n      <td>N</td>\n      <td>0</td>\n      <td>225000.0</td>\n      <td>182448.0</td>\n      <td>19287.0</td>\n      <td>157500.0</td>\n      <td>...</td>\n      <td>0.000</td>\n      <td>0.000</td>\n      <td>NaN</td>\n      <td>0.0</td>\n      <td>NaN</td>\n      <td>NaN</td>\n      <td>0.0</td>\n      <td>Active</td>\n      <td>0.0</td>\n      <td>0.0</td>\n    </tr>\n    <tr>\n      <th>621772</th>\n      <td>444846</td>\n      <td>Cash loans</td>\n      <td>F</td>\n      <td>N</td>\n      <td>Y</td>\n      <td>1</td>\n      <td>148500.0</td>\n      <td>182448.0</td>\n      <td>19287.0</td>\n      <td>157500.0</td>\n      <td>...</td>\n      <td>0.000</td>\n      <td>0.000</td>\n      <td>0.0</td>\n      <td>0.0</td>\n      <td>0.0</td>\n      <td>0.0</td>\n      <td>36.0</td>\n      <td>Active</td>\n      <td>0.0</td>\n      <td>0.0</td>\n    </tr>\n    <tr>\n      <th>1434</th>\n      <td>100913</td>\n      <td>Cash loans</td>\n      <td>F</td>\n      <td>N</td>\n      <td>Y</td>\n      <td>0</td>\n      <td>157500.0</td>\n      <td>720000.0</td>\n      <td>30505.5</td>\n      <td>720000.0</td>\n      <td>...</td>\n      <td>110117.430</td>\n      <td>110117.430</td>\n      <td>0.0</td>\n      <td>0.0</td>\n      <td>0.0</td>\n      <td>0.0</td>\n      <td>63.0</td>\n      <td>Active</td>\n      <td>0.0</td>\n      <td>0.0</td>\n    </tr>\n    <tr>\n      <th>357820</th>\n      <td>298155</td>\n      <td>Cash loans</td>\n      <td>F</td>\n      <td>N</td>\n      <td>N</td>\n      <td>0</td>\n      <td>90000.0</td>\n      <td>558000.0</td>\n      <td>18000.0</td>\n      <td>558000.0</td>\n      <td>...</td>\n      <td>93296.655</td>\n      <td>93296.655</td>\n      <td>0.0</td>\n      <td>0.0</td>\n      <td>0.0</td>\n      <td>0.0</td>\n      <td>1.0</td>\n      <td>Active</td>\n      <td>0.0</td>\n      <td>0.0</td>\n    </tr>\n    <tr>\n      <th>345065</th>\n      <td>291110</td>\n      <td>Cash loans</td>\n      <td>F</td>\n      <td>N</td>\n      <td>Y</td>\n      <td>0</td>\n      <td>171000.0</td>\n      <td>240858.0</td>\n      <td>27238.5</td>\n      <td>198000.0</td>\n      <td>...</td>\n      <td>NaN</td>\n      <td>NaN</td>\n      <td>NaN</td>\n      <td>NaN</td>\n      <td>NaN</td>\n      <td>NaN</td>\n      <td>NaN</td>\n      <td>NaN</td>\n      <td>NaN</td>\n      <td>NaN</td>\n    </tr>\n  </tbody>\n</table>\n<p>10 rows × 143 columns</p>\n</div>"
     },
     "execution_count": 29,
     "metadata": {},
     "output_type": "execute_result"
    }
   ],
   "source": [
    "cleaned_df = merged_df_left.copy()\n",
    "cleaned_df.sample(10)"
   ],
   "metadata": {
    "collapsed": false
   }
  },
  {
   "cell_type": "code",
   "execution_count": null,
   "outputs": [],
   "source": [],
   "metadata": {
    "collapsed": false
   }
  }
 ],
 "metadata": {
  "kernelspec": {
   "display_name": "Python 3",
   "language": "python",
   "name": "python3"
  },
  "language_info": {
   "codemirror_mode": {
    "name": "ipython",
    "version": 2
   },
   "file_extension": ".py",
   "mimetype": "text/x-python",
   "name": "python",
   "nbconvert_exporter": "python",
   "pygments_lexer": "ipython2",
   "version": "2.7.6"
  }
 },
 "nbformat": 4,
 "nbformat_minor": 0
}
